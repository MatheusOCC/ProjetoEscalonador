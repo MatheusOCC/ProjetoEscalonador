{
 "cells": [
  {
   "cell_type": "code",
   "execution_count": 82,
   "id": "6b7a5ab7",
   "metadata": {},
   "outputs": [],
   "source": [
    "from operator import attrgetter\n",
    "import numpy as np\n",
    "import pandas as pd\n",
    "import matplotlib.pyplot as plt"
   ]
  },
  {
   "cell_type": "code",
   "execution_count": 108,
   "id": "9a095601-5710-4996-bb66-4eeb2e5b0d64",
   "metadata": {},
   "outputs": [],
   "source": [
    "def system():\n",
    "    global TIME\n",
    "    global TIME_STATUS\n",
    "    if not TIME_STATUS:\n",
    "        TIME += 1\n",
    "    TIME_STATUS = False"
   ]
  },
  {
   "cell_type": "code",
   "execution_count": 109,
   "id": "c4921f62",
   "metadata": {},
   "outputs": [],
   "source": [
    "def sort_jobs(jobs, attribute, reverse=True):\n",
    "    return sorted(jobs, key=attrgetter(attribute), reverse=reverse)"
   ]
  },
  {
   "cell_type": "code",
   "execution_count": 110,
   "id": "92be21c2",
   "metadata": {},
   "outputs": [],
   "source": [
    "def next_job(jobs):\n",
    "    for job in jobs:\n",
    "        if not job.finished():\n",
    "            return job"
   ]
  },
  {
   "cell_type": "code",
   "execution_count": 173,
   "id": "e0349a2f-e025-4fe9-9d9d-323455809a7e",
   "metadata": {},
   "outputs": [],
   "source": [
    "class Scheduler:\n",
    "    def __init__(self, jobs, attribute, reverse):\n",
    "        self.jobs = sort_jobs(jobs, attribute, reverse)\n",
    "        self.curr_jobs = self.jobs.copy()\n",
    "        self.attribute = attribute\n",
    "        self.reverse=reverse\n",
    "    \n",
    "    def check_jobs(self):\n",
    "        for job in self.jobs:\n",
    "            awaken = job.wake()\n",
    "            if awaken:\n",
    "                self.add_job(job)\n",
    "        self.curr_jobs = sort_jobs(self.curr_jobs, self.attribute, self.reverse)\n",
    "    \n",
    "    def remove_job(self, job):\n",
    "        self.curr_jobs.remove(job)\n",
    "        \n",
    "    def add_job(self, job):\n",
    "        self.curr_jobs.insert(-1,job)\n",
    "        self.curr_jobs = sort_jobs(self.curr_jobs, self.attribute, self.reverse)"
   ]
  },
  {
   "cell_type": "code",
   "execution_count": 174,
   "id": "b68c007b-bcbc-4243-bb76-dc0532806a97",
   "metadata": {},
   "outputs": [],
   "source": [
    "class EarliestDeadlineFirst:\n",
    "    def __init__(self, jobs, attribute, reverse):\n",
    "        super().__init__(jobs, attribute, reverse) \n",
    "    \n",
    "    def run(self):\n",
    "        curr_job = self.curr_jobs[0]\n",
    "        while TIME<CYCLES:\n",
    "            self.check_jobs()\n",
    "            if self.curr_jobs:\n",
    "                curr_job = self.curr_jobs[0]\n",
    "                job_status = curr_job.run()\n",
    "                if curr_job.finished():\n",
    "                    self.remove_job(curr_job)\n",
    "                if not job_status:\n",
    "                    lost_deadline = True\n",
    "                    break\n",
    "            system()\n",
    "            self.update_time_to_deadline()\n",
    "            \n",
    "    def update_time_to_deadline():\n",
    "        for job in self.jobs:\n",
    "            job.time_to_deadline()"
   ]
  },
  {
   "cell_type": "code",
   "execution_count": 175,
   "id": "b5fb24ba",
   "metadata": {},
   "outputs": [],
   "source": [
    "class RateMonotonic(Scheduler):\n",
    "    def __init__(self, jobs, attribute, reverse):\n",
    "        super().__init__(jobs, attribute, reverse)   \n",
    "    \n",
    "    def run(self):\n",
    "        curr_job = self.curr_jobs[0]\n",
    "        while TIME<CYCLES:\n",
    "            self.check_jobs()\n",
    "            if self.curr_jobs:\n",
    "                curr_job = self.curr_jobs[0]\n",
    "                job_status = curr_job.run()\n",
    "                if curr_job.finished():\n",
    "                    self.remove_job(curr_job)\n",
    "                if not job_status:\n",
    "                    lost_deadline = True\n",
    "                    break\n",
    "            system()"
   ]
  },
  {
   "cell_type": "code",
   "execution_count": 176,
   "id": "11b5862f",
   "metadata": {},
   "outputs": [],
   "source": [
    "class Processor:\n",
    "    def __init__(self, jobs):\n",
    "        self.jobs=jobs\n",
    "    \n",
    "    def edf(self):\n",
    "        scheduler = EarliestDeadlineFirst(self.jobs, 'to_deadline', reverse=False) #Menor Tempo\n",
    "        scheduler.run()\n",
    "    def rm(self):\n",
    "        scheduler = RateMonotonic(self.jobs, 'rm_priority', reverse=True) #Maior prioridade \n",
    "        scheduler.run()"
   ]
  },
  {
   "cell_type": "code",
   "execution_count": 177,
   "id": "80c39833-b26d-4c60-8324-5e451572ec17",
   "metadata": {},
   "outputs": [],
   "source": [
    "class Job:\n",
    "    def __init__(self, duration, period, name, pid ,priority=0):\n",
    "        self.duration = duration\n",
    "        self.period = period\n",
    "        self.priority = priority\n",
    "        self.rm_priority = 1/period\n",
    "        self.deadline = period # Considerado Caso Crítico\n",
    "        self.runtime = 0\n",
    "        self.ran = []\n",
    "        self.active = True\n",
    "        self.name = name # PID\n",
    "        self.to_deadline = period-TIME\n",
    "        self.deadlines = []\n",
    "        self.pid = pid\n",
    "    \n",
    "    def wake(self):\n",
    "        global TIME\n",
    "        if(TIME % self.period == 0):\n",
    "            if(not self.active): #Já tinha rodado no ciclo anterior\n",
    "                print(f'T={TIME} '+'Zerado'+self.name)\n",
    "                self.runtime=0\n",
    "                self.active = True\n",
    "                self.deadline = TIME+self.period\n",
    "                return True\n",
    "            return False\n",
    "        \n",
    "    def run(self):\n",
    "        global TIME\n",
    "        global TIME_STATUS\n",
    "        if(not self.finished()):\n",
    "            TIME_STATUS = True\n",
    "            if self.check_deadline():\n",
    "                return False\n",
    "            self.ran.append(TIME)\n",
    "            print(f'T={TIME} '+'O Rodando!'+self.name)\n",
    "            self.runtime += 1\n",
    "            TIME += 1\n",
    "        return True\n",
    "    \n",
    "    def finished(self):\n",
    "        if self.runtime >= self.duration:\n",
    "            self.active = False\n",
    "            # print(f'T={TIME-1} '+'X Finalizado!'+self.name)\n",
    "            return True\n",
    "        return False\n",
    "    \n",
    "    def check_deadline(self):\n",
    "        global TIME\n",
    "        self.deadlines.append(self.deadline)\n",
    "        if(TIME>self.deadline):\n",
    "            print('Uma deadline foi perdida!')\n",
    "            return True\n",
    "        \n",
    "    def time_to_deadline(self):\n",
    "        self.to_deadline = self.period-TIME\n",
    "        \n",
    "    def update_priority(self, priority):\n",
    "        self.priority = priority"
   ]
  },
  {
   "cell_type": "code",
   "execution_count": 178,
   "id": "59a0e9b8",
   "metadata": {},
   "outputs": [],
   "source": [
    "CYCLES = 200"
   ]
  },
  {
   "cell_type": "code",
   "execution_count": 179,
   "id": "7f6c03b0",
   "metadata": {},
   "outputs": [],
   "source": [
    "TIME = 0\n",
    "TIME_STATUS = False\n",
    "job1 = Job(3, 5, \" P1\",1)\n",
    "job2 = Job(2, 3, \" P2\",2)\n",
    "job3 = Job(7,15, \" P3\",3)"
   ]
  },
  {
   "cell_type": "code",
   "execution_count": 180,
   "id": "ca3e77d9-b3cb-41da-b029-327ce16bbd18",
   "metadata": {},
   "outputs": [],
   "source": [
    "jobs = [job1, job2]"
   ]
  },
  {
   "cell_type": "code",
   "execution_count": 181,
   "id": "2f6e0bfd-2476-45ab-8119-40aa395108e1",
   "metadata": {},
   "outputs": [
    {
     "name": "stdout",
     "output_type": "stream",
     "text": [
      "0.3333333333333333\n",
      "0.2\n"
     ]
    }
   ],
   "source": [
    "for job in sort_jobs(jobs,'rm_priority'):\n",
    "    print(job.rm_priority)"
   ]
  },
  {
   "cell_type": "code",
   "execution_count": 182,
   "id": "6b0a0e67-cae7-42ff-a579-3d351728557b",
   "metadata": {},
   "outputs": [
    {
     "name": "stdout",
     "output_type": "stream",
     "text": [
      "3\n",
      "5\n"
     ]
    }
   ],
   "source": [
    "for job in sort_jobs(jobs,'to_deadline',False):\n",
    "    print(job.deadline)"
   ]
  },
  {
   "cell_type": "code",
   "execution_count": 183,
   "id": "82df42ff",
   "metadata": {},
   "outputs": [],
   "source": [
    "jobs = [job1,job2]"
   ]
  },
  {
   "cell_type": "code",
   "execution_count": 184,
   "id": "617b306b",
   "metadata": {},
   "outputs": [],
   "source": [
    "processor = Processor(jobs)"
   ]
  },
  {
   "cell_type": "code",
   "execution_count": 185,
   "id": "8e2508d2",
   "metadata": {},
   "outputs": [
    {
     "name": "stdout",
     "output_type": "stream",
     "text": [
      "T=0 O Rodando! P2\n",
      "T=1 O Rodando! P2\n",
      "T=2 O Rodando! P1\n",
      "T=3 Zerado P2\n"
     ]
    },
    {
     "ename": "TypeError",
     "evalue": "Scheduler.add_job() missing 1 required positional argument: 'job'",
     "output_type": "error",
     "traceback": [
      "\u001b[0;31m---------------------------------------------------------------------------\u001b[0m",
      "\u001b[0;31mTypeError\u001b[0m                                 Traceback (most recent call last)",
      "Cell \u001b[0;32mIn[185], line 1\u001b[0m\n\u001b[0;32m----> 1\u001b[0m processor\u001b[39m.\u001b[39;49mrm()\n",
      "Cell \u001b[0;32mIn[176], line 10\u001b[0m, in \u001b[0;36mProcessor.rm\u001b[0;34m(self)\u001b[0m\n\u001b[1;32m      8\u001b[0m \u001b[39mdef\u001b[39;00m \u001b[39mrm\u001b[39m(\u001b[39mself\u001b[39m):\n\u001b[1;32m      9\u001b[0m     scheduler \u001b[39m=\u001b[39m RateMonotonic(\u001b[39mself\u001b[39m\u001b[39m.\u001b[39mjobs, \u001b[39m'\u001b[39m\u001b[39mrm_priority\u001b[39m\u001b[39m'\u001b[39m, reverse\u001b[39m=\u001b[39m\u001b[39mTrue\u001b[39;00m) \u001b[39m#Maior prioridade \u001b[39;00m\n\u001b[0;32m---> 10\u001b[0m     scheduler\u001b[39m.\u001b[39;49mrun()\n",
      "Cell \u001b[0;32mIn[175], line 8\u001b[0m, in \u001b[0;36mRateMonotonic.run\u001b[0;34m(self)\u001b[0m\n\u001b[1;32m      6\u001b[0m curr_job \u001b[39m=\u001b[39m \u001b[39mself\u001b[39m\u001b[39m.\u001b[39mcurr_jobs[\u001b[39m0\u001b[39m]\n\u001b[1;32m      7\u001b[0m \u001b[39mwhile\u001b[39;00m TIME\u001b[39m<\u001b[39mCYCLES:\n\u001b[0;32m----> 8\u001b[0m     \u001b[39mself\u001b[39;49m\u001b[39m.\u001b[39;49mcheck_jobs()\n\u001b[1;32m      9\u001b[0m     \u001b[39mif\u001b[39;00m \u001b[39mself\u001b[39m\u001b[39m.\u001b[39mcurr_jobs:\n\u001b[1;32m     10\u001b[0m         curr_job \u001b[39m=\u001b[39m \u001b[39mself\u001b[39m\u001b[39m.\u001b[39mcurr_jobs[\u001b[39m0\u001b[39m]\n",
      "Cell \u001b[0;32mIn[173], line 12\u001b[0m, in \u001b[0;36mScheduler.check_jobs\u001b[0;34m(self)\u001b[0m\n\u001b[1;32m     10\u001b[0m     awaken \u001b[39m=\u001b[39m job\u001b[39m.\u001b[39mwake()\n\u001b[1;32m     11\u001b[0m     \u001b[39mif\u001b[39;00m awaken:\n\u001b[0;32m---> 12\u001b[0m         \u001b[39mself\u001b[39;49m\u001b[39m.\u001b[39;49madd_job()\n\u001b[1;32m     13\u001b[0m \u001b[39mself\u001b[39m\u001b[39m.\u001b[39mcurr_jobs \u001b[39m=\u001b[39m sort_jobs(\u001b[39mself\u001b[39m\u001b[39m.\u001b[39mcurr_jobs, \u001b[39mself\u001b[39m\u001b[39m.\u001b[39mattribute, \u001b[39mself\u001b[39m\u001b[39m.\u001b[39mreverse)\n",
      "\u001b[0;31mTypeError\u001b[0m: Scheduler.add_job() missing 1 required positional argument: 'job'"
     ]
    }
   ],
   "source": [
    "processor.rm()"
   ]
  },
  {
   "cell_type": "code",
   "execution_count": null,
   "id": "ceb52c6f-a1bc-411a-8ee4-916cb921c3fd",
   "metadata": {},
   "outputs": [
    {
     "data": {
      "text/plain": [
       "[<__main__.Job at 0x7f89cd059cf0>, <__main__.Job at 0x7f89cd059480>]"
      ]
     },
     "execution_count": 131,
     "metadata": {},
     "output_type": "execute_result"
    }
   ],
   "source": [
    "jobs"
   ]
  },
  {
   "cell_type": "code",
   "execution_count": null,
   "id": "9c63a4d7-5c4f-4578-a6f6-e5ae6cc7629f",
   "metadata": {},
   "outputs": [],
   "source": [
    "times = []\n",
    "for job in jobs:\n",
    "    for value in job.ran:\n",
    "        times.append(\n",
    "            dict(\n",
    "                Job=job.name,\n",
    "                Inicio=value,\n",
    "                Fim=value + 1,\n",
    "                Resource=f\"CPU\",\n",
    "                PID = job.pid\n",
    "            )\n",
    "        )\n",
    "    for value in job.deadlines:\n",
    "        times.append(\n",
    "            dict(\n",
    "                Job=job.name,\n",
    "                Inicio=value,\n",
    "                Fim=value + 0.3,\n",
    "                Resource=f\"Deadline\",\n",
    "                PID = job.pid\n",
    "            )\n",
    "        )"
   ]
  },
  {
   "cell_type": "code",
   "execution_count": 186,
   "id": "a259b00f-905a-41cf-8f05-b1f10326900f",
   "metadata": {},
   "outputs": [],
   "source": [
    "df = pd.DataFrame(times)\n",
    "df[\"Delta\"] = df[\"Fim\"] - df[\"Inicio\"]\n",
    "df.sort_values(by=\"Inicio\", inplace=True)"
   ]
  },
  {
   "cell_type": "code",
   "execution_count": 187,
   "id": "f40accb3-ada4-4586-9092-749ac9d87706",
   "metadata": {},
   "outputs": [
    {
     "data": {
      "text/plain": [
       "<function id(obj, /)>"
      ]
     },
     "execution_count": 187,
     "metadata": {},
     "output_type": "execute_result"
    }
   ],
   "source": [
    "id"
   ]
  },
  {
   "cell_type": "code",
   "execution_count": 188,
   "id": "fb1a8c25-307c-4bbf-a997-4ca73a8d7a79",
   "metadata": {},
   "outputs": [
    {
     "data": {
      "text/html": [
       "<div>\n",
       "<style scoped>\n",
       "    .dataframe tbody tr th:only-of-type {\n",
       "        vertical-align: middle;\n",
       "    }\n",
       "\n",
       "    .dataframe tbody tr th {\n",
       "        vertical-align: top;\n",
       "    }\n",
       "\n",
       "    .dataframe thead th {\n",
       "        text-align: right;\n",
       "    }\n",
       "</style>\n",
       "<table border=\"1\" class=\"dataframe\">\n",
       "  <thead>\n",
       "    <tr style=\"text-align: right;\">\n",
       "      <th></th>\n",
       "      <th>Job</th>\n",
       "      <th>Inicio</th>\n",
       "      <th>Fim</th>\n",
       "      <th>Resource</th>\n",
       "      <th>PID</th>\n",
       "      <th>Delta</th>\n",
       "    </tr>\n",
       "  </thead>\n",
       "  <tbody>\n",
       "    <tr>\n",
       "      <th>62</th>\n",
       "      <td>P2</td>\n",
       "      <td>0</td>\n",
       "      <td>1.0</td>\n",
       "      <td>CPU</td>\n",
       "      <td>2</td>\n",
       "      <td>1.0</td>\n",
       "    </tr>\n",
       "    <tr>\n",
       "      <th>63</th>\n",
       "      <td>P2</td>\n",
       "      <td>1</td>\n",
       "      <td>2.0</td>\n",
       "      <td>CPU</td>\n",
       "      <td>2</td>\n",
       "      <td>1.0</td>\n",
       "    </tr>\n",
       "    <tr>\n",
       "      <th>64</th>\n",
       "      <td>P2</td>\n",
       "      <td>2</td>\n",
       "      <td>3.0</td>\n",
       "      <td>CPU</td>\n",
       "      <td>2</td>\n",
       "      <td>1.0</td>\n",
       "    </tr>\n",
       "    <tr>\n",
       "      <th>65</th>\n",
       "      <td>P2</td>\n",
       "      <td>3</td>\n",
       "      <td>4.0</td>\n",
       "      <td>CPU</td>\n",
       "      <td>2</td>\n",
       "      <td>1.0</td>\n",
       "    </tr>\n",
       "    <tr>\n",
       "      <th>66</th>\n",
       "      <td>P2</td>\n",
       "      <td>4</td>\n",
       "      <td>5.0</td>\n",
       "      <td>CPU</td>\n",
       "      <td>2</td>\n",
       "      <td>1.0</td>\n",
       "    </tr>\n",
       "    <tr>\n",
       "      <th>...</th>\n",
       "      <td>...</td>\n",
       "      <td>...</td>\n",
       "      <td>...</td>\n",
       "      <td>...</td>\n",
       "      <td>...</td>\n",
       "      <td>...</td>\n",
       "    </tr>\n",
       "    <tr>\n",
       "      <th>276</th>\n",
       "      <td>P2</td>\n",
       "      <td>210</td>\n",
       "      <td>210.3</td>\n",
       "      <td>Deadline</td>\n",
       "      <td>2</td>\n",
       "      <td>0.3</td>\n",
       "    </tr>\n",
       "    <tr>\n",
       "      <th>277</th>\n",
       "      <td>P2</td>\n",
       "      <td>210</td>\n",
       "      <td>210.3</td>\n",
       "      <td>Deadline</td>\n",
       "      <td>2</td>\n",
       "      <td>0.3</td>\n",
       "    </tr>\n",
       "    <tr>\n",
       "      <th>278</th>\n",
       "      <td>P2</td>\n",
       "      <td>210</td>\n",
       "      <td>210.3</td>\n",
       "      <td>Deadline</td>\n",
       "      <td>2</td>\n",
       "      <td>0.3</td>\n",
       "    </tr>\n",
       "    <tr>\n",
       "      <th>280</th>\n",
       "      <td>P2</td>\n",
       "      <td>210</td>\n",
       "      <td>210.3</td>\n",
       "      <td>Deadline</td>\n",
       "      <td>2</td>\n",
       "      <td>0.3</td>\n",
       "    </tr>\n",
       "    <tr>\n",
       "      <th>301</th>\n",
       "      <td>P2</td>\n",
       "      <td>210</td>\n",
       "      <td>210.3</td>\n",
       "      <td>Deadline</td>\n",
       "      <td>2</td>\n",
       "      <td>0.3</td>\n",
       "    </tr>\n",
       "  </tbody>\n",
       "</table>\n",
       "<p>302 rows × 6 columns</p>\n",
       "</div>"
      ],
      "text/plain": [
       "     Job  Inicio    Fim  Resource  PID  Delta\n",
       "62    P2       0    1.0       CPU    2    1.0\n",
       "63    P2       1    2.0       CPU    2    1.0\n",
       "64    P2       2    3.0       CPU    2    1.0\n",
       "65    P2       3    4.0       CPU    2    1.0\n",
       "66    P2       4    5.0       CPU    2    1.0\n",
       "..   ...     ...    ...       ...  ...    ...\n",
       "276   P2     210  210.3  Deadline    2    0.3\n",
       "277   P2     210  210.3  Deadline    2    0.3\n",
       "278   P2     210  210.3  Deadline    2    0.3\n",
       "280   P2     210  210.3  Deadline    2    0.3\n",
       "301   P2     210  210.3  Deadline    2    0.3\n",
       "\n",
       "[302 rows x 6 columns]"
      ]
     },
     "execution_count": 188,
     "metadata": {},
     "output_type": "execute_result"
    }
   ],
   "source": [
    "df"
   ]
  },
  {
   "cell_type": "code",
   "execution_count": 189,
   "id": "63daa2d1-c72e-4c89-9575-df8e9300fd3b",
   "metadata": {},
   "outputs": [],
   "source": [
    "def process_fig(df, processes, name):\n",
    "    fig, axis = plt.subplots(figsize=(30, len(processes) * 4))\n",
    "\n",
    "    axis.set_ylim(9, 10 * (len(processes) + 1))\n",
    "    axis.set_xlim(0, df[\"Fim\"].max() + 1)\n",
    "\n",
    "    axis.set_xlabel(\"Tempo\", fontsize=16)\n",
    "    axis.set_ylabel(\"Tarefa\", fontsize=16)\n",
    "\n",
    "    print(np.arange(15, 15 * len(processes), 10))\n",
    "    axis.set_yticks(np.arange(15, 15 * len(processes), 10))\n",
    "    axis.set_yticklabels([p.name for i, p in enumerate(processes)], fontsize=14)\n",
    "\n",
    "    axis.grid(True)\n",
    "    for i, value in enumerate(df.values):\n",
    "        if value[3] == \"CPU\":\n",
    "            axis.broken_barh(\n",
    "                [(value[1], value[5])],\n",
    "                ((10 * value[4]+2.5), 5),\n",
    "                facecolors=(\"tab:green\"),\n",
    "                label=\"CPU\",\n",
    "            )\n",
    "        elif value[3] == \"Deadline\":\n",
    "            axis.broken_barh(\n",
    "                [(value[1], -value[5]/2)],\n",
    "                (10 * value[4]+2.5, 7),\n",
    "                facecolors=(\"black\"),\n",
    "                label=\"Deadline\",\n",
    "            )\n",
    "    start, end = axis.get_xlim()\n",
    "    axis.xaxis.set_ticks(np.arange(start, end, 5))\n",
    "    axis.set_xticklabels(np.arange(start, end, 5, dtype=int), fontsize=14)\n",
    "\n",
    "    handles, labels = plt.gca().get_legend_handles_labels()\n",
    "    by_label = dict(zip(labels, handles))\n",
    "    plt.legend(by_label.values(), by_label.keys(), fontsize=12, framealpha=0.3)\n",
    "    plt.tight_layout()\n",
    "    # plt.savefig(f\"{name}.jpeg\", dpi=300)"
   ]
  },
  {
   "cell_type": "code",
   "execution_count": 190,
   "id": "d72cf897-642d-4cc7-b531-9ac162b18b01",
   "metadata": {},
   "outputs": [
    {
     "name": "stdout",
     "output_type": "stream",
     "text": [
      "[15 25]\n"
     ]
    },
    {
     "data": {
      "image/png": "[encoded data removed]",
      "text/plain": [
       "<Figure size 3000x800 with 1 Axes>"
      ]
     },
     "metadata": {},
     "output_type": "display_data"
    }
   ],
   "source": [
    "process_fig(df, jobs, 'T')"
   ]
  },
  {
   "cell_type": "code",
   "execution_count": 92,
   "id": "91724aff-d4f7-4dac-acbd-cf7d11427c5c",
   "metadata": {},
   "outputs": [],
   "source": []
  },
  {
   "cell_type": "code",
   "execution_count": null,
   "id": "64f27e39",
   "metadata": {},
   "outputs": [],
   "source": []
  }
 ],
 "metadata": {
  "kernelspec": {
   "display_name": "Python 3 (ipykernel)",
   "language": "python",
   "name": "python3"
  },
  "language_info": {
   "codemirror_mode": {
    "name": "ipython",
    "version": 3
   },
   "file_extension": ".py",
   "mimetype": "text/x-python",
   "name": "python",
   "nbconvert_exporter": "python",
   "pygments_lexer": "ipython3",
   "version": "3.10.6"
  }
 },
 "nbformat": 4,
 "nbformat_minor": 5
}
